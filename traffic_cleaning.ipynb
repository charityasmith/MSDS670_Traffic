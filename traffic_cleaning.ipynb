{
 "cells": [
  {
   "cell_type": "code",
   "execution_count": 1,
   "id": "8a84d946-3bc1-4e25-954c-2eb5ad7d45b5",
   "metadata": {},
   "outputs": [],
   "source": [
    "# Import necessary libraries\n",
    "import pandas as pd"
   ]
  },
  {
   "cell_type": "code",
   "execution_count": 2,
   "id": "561e0a73-9a7a-4f0b-a983-aba1eb09ff69",
   "metadata": {},
   "outputs": [],
   "source": [
    "# Load the dataset\n",
    "df = pd.read_csv(\"traffic_accidents.csv\")"
   ]
  },
  {
   "cell_type": "code",
   "execution_count": 3,
   "id": "78f6ab51-86c7-4079-94f2-1ca113e21fa5",
   "metadata": {},
   "outputs": [
    {
     "name": "stdout",
     "output_type": "stream",
     "text": [
      "Dataset Overview:\n",
      "\n",
      "<class 'pandas.core.frame.DataFrame'>\n",
      "RangeIndex: 209306 entries, 0 to 209305\n",
      "Data columns (total 24 columns):\n",
      " #   Column                         Non-Null Count   Dtype  \n",
      "---  ------                         --------------   -----  \n",
      " 0   crash_date                     209306 non-null  object \n",
      " 1   traffic_control_device         209306 non-null  object \n",
      " 2   weather_condition              209306 non-null  object \n",
      " 3   lighting_condition             209306 non-null  object \n",
      " 4   first_crash_type               209306 non-null  object \n",
      " 5   trafficway_type                209306 non-null  object \n",
      " 6   alignment                      209306 non-null  object \n",
      " 7   roadway_surface_cond           209306 non-null  object \n",
      " 8   road_defect                    209306 non-null  object \n",
      " 9   crash_type                     209306 non-null  object \n",
      " 10  intersection_related_i         209306 non-null  object \n",
      " 11  damage                         209306 non-null  object \n",
      " 12  prim_contributory_cause        209306 non-null  object \n",
      " 13  num_units                      209306 non-null  int64  \n",
      " 14  most_severe_injury             209306 non-null  object \n",
      " 15  injuries_total                 209306 non-null  float64\n",
      " 16  injuries_fatal                 209306 non-null  float64\n",
      " 17  injuries_incapacitating        209306 non-null  float64\n",
      " 18  injuries_non_incapacitating    209306 non-null  float64\n",
      " 19  injuries_reported_not_evident  209306 non-null  float64\n",
      " 20  injuries_no_indication         209306 non-null  float64\n",
      " 21  crash_hour                     209306 non-null  int64  \n",
      " 22  crash_day_of_week              209306 non-null  int64  \n",
      " 23  crash_month                    209306 non-null  int64  \n",
      "dtypes: float64(6), int64(4), object(14)\n",
      "memory usage: 38.3+ MB\n",
      "None\n"
     ]
    }
   ],
   "source": [
    "# Display basic info about the dataset\n",
    "print(\"Dataset Overview:\\n\")\n",
    "print(df.info())"
   ]
  },
  {
   "cell_type": "code",
   "execution_count": 4,
   "id": "939ec7ec-c490-4b06-8c91-2dc254f203f4",
   "metadata": {},
   "outputs": [
    {
     "name": "stdout",
     "output_type": "stream",
     "text": [
      "\n",
      "Missing Values Count:\n",
      "\n",
      "crash_date                       0\n",
      "traffic_control_device           0\n",
      "weather_condition                0\n",
      "lighting_condition               0\n",
      "first_crash_type                 0\n",
      "trafficway_type                  0\n",
      "alignment                        0\n",
      "roadway_surface_cond             0\n",
      "road_defect                      0\n",
      "crash_type                       0\n",
      "intersection_related_i           0\n",
      "damage                           0\n",
      "prim_contributory_cause          0\n",
      "num_units                        0\n",
      "most_severe_injury               0\n",
      "injuries_total                   0\n",
      "injuries_fatal                   0\n",
      "injuries_incapacitating          0\n",
      "injuries_non_incapacitating      0\n",
      "injuries_reported_not_evident    0\n",
      "injuries_no_indication           0\n",
      "crash_hour                       0\n",
      "crash_day_of_week                0\n",
      "crash_month                      0\n",
      "dtype: int64\n"
     ]
    }
   ],
   "source": [
    "# Check for missing values\n",
    "print(\"\\nMissing Values Count:\\n\")\n",
    "print(df.isnull().sum())"
   ]
  },
  {
   "cell_type": "code",
   "execution_count": 5,
   "id": "d5837a16-a96d-411d-96a5-2ec5609e6d25",
   "metadata": {},
   "outputs": [],
   "source": [
    "# Strip whitespace from column names and standardize them\n",
    "df.columns = df.columns.str.strip().str.lower().str.replace(\" \", \"_\")"
   ]
  },
  {
   "cell_type": "code",
   "execution_count": 6,
   "id": "2d620b30-11d4-493d-922d-3edf1be1417f",
   "metadata": {},
   "outputs": [],
   "source": [
    "# Convert numerical columns to the appropriate data type\n",
    "numerical_columns = ['num_units', 'injuries_total', 'injuries_fatal', \n",
    "                     'injuries_incapacitating', 'injuries_non_incapacitating', \n",
    "                     'injuries_reported_not_evident', 'injuries_no_indication', \n",
    "                     'crash_hour', 'crash_day_of_week', 'crash_month']\n",
    "\n",
    "for col in numerical_columns:\n",
    "    df[col] = pd.to_numeric(df[col], errors='coerce')"
   ]
  },
  {
   "cell_type": "code",
   "execution_count": 7,
   "id": "f9d4fed6-7116-40a4-9f13-122551a3cd79",
   "metadata": {},
   "outputs": [],
   "source": [
    "# Save the cleaned dataset\n",
    "df.to_csv(\"traffic_accidents_clean.csv\", index=False)"
   ]
  }
 ],
 "metadata": {
  "kernelspec": {
   "display_name": "Python 3 (ipykernel)",
   "language": "python",
   "name": "python3"
  },
  "language_info": {
   "codemirror_mode": {
    "name": "ipython",
    "version": 3
   },
   "file_extension": ".py",
   "mimetype": "text/x-python",
   "name": "python",
   "nbconvert_exporter": "python",
   "pygments_lexer": "ipython3",
   "version": "3.11.8"
  }
 },
 "nbformat": 4,
 "nbformat_minor": 5
}
